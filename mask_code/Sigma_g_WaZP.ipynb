{
 "cells": [
  {
   "cell_type": "code",
   "execution_count": 1,
   "metadata": {},
   "outputs": [
    {
     "name": "stdout",
     "output_type": "stream",
     "text": [
      "Populating the interactive namespace from numpy and matplotlib\n"
     ]
    }
   ],
   "source": [
    "import healpy as hp\n",
    "import pylab as mplot\n",
    "%pylab inline\n",
    "import astropy.io.fits as pf\n",
    "import astropy.io.fits as fits\n",
    "import numpy as np\n",
    "import scipy \n",
    "import kmeans_radec"
   ]
  },
  {
   "cell_type": "markdown",
   "metadata": {},
   "source": [
    "## Redmapper Mask"
   ]
  },
  {
   "cell_type": "code",
   "execution_count": 25,
   "metadata": {},
   "outputs": [
    {
     "name": "stdout",
     "output_type": "stream",
     "text": [
      "['RA', 'DEC', 'Z', 'LAMBDA', 'W', 'JK']\n",
      "[ 4.3466754  4.1713424  4.9303865 10.514455   9.168657   9.674061\n",
      "  4.707538   7.046179  17.902739  18.188862 ]\n",
      "[-40.78864  -41.591328 -41.2684   -42.13053  -41.16781  -41.48712\n",
      " -43.08256  -42.93594  -40.55957  -40.704903]\n",
      "6.283184\n",
      "5.3709283e-07\n",
      "2200708\n",
      "2200708\n"
     ]
    }
   ],
   "source": [
    "from astropy.io import fits\n",
    "import numpy as np\n",
    "%matplotlib inline\n",
    "import matplotlib.pyplot as plt\n",
    "\n",
    "\n",
    "# Read in Redmapper data\n",
    "hdul = fits.open('/Users/arielamsellem/Desktop/Research/splashback_codes/RM_cluster_rand.fits')\n",
    "data = hdul[1].data\n",
    "cols = hdul[1].columns\n",
    "print(cols.names)\n",
    "\n",
    "# Coordinates of redmapper galaxies\n",
    "ra = data.field('RA')\n",
    "dec = data.field('DEC')\n",
    "print(ra[0:10])\n",
    "print(dec[0:10])\n",
    "\n",
    "ra_rad = ra * np.pi * (1./180.)\n",
    "dec_rad = dec * np.pi * (1./180.)\n",
    "\n",
    "theta = np.pi/2 - dec_rad\n",
    "print(np.max(ra_rad))\n",
    "print(np.min(ra_rad))\n",
    "print()"
   ]
  },
  {
   "cell_type": "code",
   "execution_count": 29,
   "metadata": {},
   "outputs": [
    {
     "data": {
      "image/png": "[encoded data removed]",
      "text/plain": [
       "<Figure size 612x388.8 with 2 Axes>"
      ]
     },
     "metadata": {
      "needs_background": "light"
     },
     "output_type": "display_data"
    }
   ],
   "source": [
    "pix = hp.ang2pix(4096, theta, ra_rad)\n",
    "mask_rm = np.zeros(hp.nside2npix(4096))\n",
    "mask_rm[pix] = 1\n",
    "hp.mollview(mask_rm)\n"
   ]
  },
  {
   "cell_type": "markdown",
   "metadata": {},
   "source": [
    "## WaZP Mask"
   ]
  },
  {
   "cell_type": "code",
   "execution_count": 34,
   "metadata": {},
   "outputs": [
    {
     "name": "stdout",
     "output_type": "stream",
     "text": [
      "['SeqNr', 'DETECTION_TILE', 'IZ_INIT', 'IZ_FINAL', 'PEAK_ID_TILE_IZ', 'ID_IN_TILE', 'RA', 'DEC', 'zp', 'zp_median', 'Z_INIT', 'ZMIN_CL', 'ZMAX_CL', 'ZMIN_95_CL', 'ZMAX_95_CL', 'MSTAR_CL', 'XPEAK', 'YPEAK', 'RADIUS_ISO_MPC', 'RADIUS_SADDLE_MPC', 'MAXWAVE', 'FLUX_WAVE', 'FLAG_MERGE', 'SIGMA_DZ_INIT', 'SIGMA_DZ_EFF', 'FLAG_ZP', 'NGAL_FOR_ZP', 'FLAG_IZ', 'GLOBAL_NBKG_ZM', 'GLOBAL_LBKG_ZM', 'SIG_NBKG_ZM', 'SIG_LBKG_ZM', 'LOCAL_NBKG_ZM', 'LOCAL_LBKG_ZM', 'AREA_LOCAL_BKG', 'MASKED_FRAC_1MPC', 'MASKED_FRAC_05MPC', 'MASKED_FRAC_03MPC', 'SNR', 'SNR_NGALS', 'SNR_LGALS', 'CONTRAST_NGALS', 'CONTRAST_LGALS', 'DMAG_CORE', 'DMAG_BCG', 'DIST_BCG', 'NGALS_TEST', 'NGALS_CEN', 'LGALS_CEN', 'LOCAL_NBKG', 'LOCAL_LBKG', 'GLOBAL_NBKG', 'GLOBAL_LBKG', 'SIG_NBKG', 'SIG_LBKG', 'OUT_OF_CYL', 'CYL_NSL', 'PARENT_CYL_NSL', 'ZMIN_CYL', 'ZMAX_CYL', 'IZ_MIN_CYL', 'IZ_MAX_CYL', 'CONTRAST_CYL', 'NMAX_CYL', 'KING_Rc', 'KING_D0', 'KING_CHI2', 'KING_NFIT', 'RADIUS_MPC', 'RADIUS_AMIN', 'RADIUS_MAX_CONTRAST', 'RADIUS_SCALING', 'NGALS_MODEL_FIT', 'NGALS_MODEL', 'FLAG_DUPLICATE', 'RADIUS_500kpc_amin', 'RADIUS_1Mpc_amin', 'NMEM', 'NGALS', 'NGALS_R300', 'NGALS_R500', 'LGALS', 'LGALS_R300', 'LGALS_R500', 'E_NGALS', 'E_NGALS_R300', 'E_NGALS_R500', 'E_LGALS', 'E_LGALS_R300', 'E_LGALS_R500', 'RA_BCG', 'DEC_BCG', 'ZP_BCG', 'zs', 'zs_min', 'zs_max', 'zp_err', 'rank', 'ID', 'RS_FRAC', 'NGALS_RS', 'NGALS_300_RS', 'NGALS_500_RS', 'RS_SLOPE', 'RS_COLOR', 'RS_COLOR_COR', 'RS_WIDTH', 'NGALS_COR', 'NGALS_RS_COR', 'RADIUS_MPC_COR', 'zp_new']\n"
     ]
    }
   ],
   "source": [
    "# Read in the Unpublished data\n",
    "hdu2 = fits.open('/Users/arielamsellem/Desktop/Research/Initial_codes/wazp_cluster_newz.fits')\n",
    "data_u = hdu2[1].data\n",
    "cols_u = hdu2[1].columns\n",
    "print(cols_u.names)\n",
    "\n",
    "# Coordinates of Unpublished data\n",
    "ra_u = data_u.field('ra')\n",
    "dec_u = data_u.field('dec')\n",
    "z_u = data_u.field('zp_new')\n",
    "ngal_u = data_u.field('ngals')\n",
    "\n",
    "mask = pf.open('./vac_3960.4902_joined_corr_footprint_map.fits')\n",
    "cols_mask = mask[1].columns\n",
    "#print(cols_mask_w.names)\n",
    "#print(mask_w[1].data['pixel'])\n",
    "# figuring out what's the maximum number in the index, in order to figure out the nside\n",
    "#mplot.plot(mask_w[1].data)\n",
    "# try nside=4096\n",
    "#hp.nside2npix(4096)\n",
    "# now populate the mask, define a zero array with the length of a nside 4096 map\n",
    "mask_w = np.zeros(hp.nside2npix(4096))\n",
    "\n",
    "\n",
    "# set the footprint pixel ids to 1\n",
    "mask_w[mask[1].data['pixel']] = 1"
   ]
  },
  {
   "cell_type": "code",
   "execution_count": 37,
   "metadata": {},
   "outputs": [
    {
     "name": "stdout",
     "output_type": "stream",
     "text": [
      "193537048\n",
      "7789544\n",
      "199478892\n",
      "5941844\n"
     ]
    },
    {
     "data": {
      "image/png": "[encoded data removed]",
      "text/plain": [
       "<Figure size 612x388.8 with 2 Axes>"
      ]
     },
     "metadata": {
      "needs_background": "light"
     },
     "output_type": "display_data"
    }
   ],
   "source": [
    "# show the mask\n",
    "hp.mollview(mask_w)\n",
    "\n",
    "# WaZP Information\n",
    "print(len(mask_w) - len(np.where(mask_w == 1)[0]))\n",
    "print(len(np.where(mask_w == 1)[0]))\n",
    "\n",
    "# RM Information\n",
    "print(len(mask_rm) - len(np.where(mask_rm == 1)[0]))\n",
    "print(len(np.where(mask_rm == 1)[0]))"
   ]
  },
  {
   "cell_type": "code",
   "execution_count": 69,
   "metadata": {},
   "outputs": [],
   "source": [
    "def radec2thetaphi(ra, dec, nside):\n",
    "    \"\"\"\n",
    "    Convert RA DEC in degrees to THETA and PHI in Healpix \n",
    "    convention. \n",
    "    \"\"\"\n",
    "\n",
    "    theta = (90.0 - dec)*np.pi/180.0\n",
    "    phi = ra*np.pi/180.0\n",
    "    return theta, phi\n",
    "\n",
    "def make_mask(ra, dec, nmin=1, nside=4096):\n",
    "    \"\"\"\n",
    "    Take RA, DEC, build a binary mask just by assigning \n",
    "    1 to pixels with count>=nmin and 0 otherwise. Mask \n",
    "    is in Healpix format with assigned nside. \n",
    "    \"\"\"\n",
    "    mask = np.zeros(hp.nside2npix(nside))\n",
    "    theta, phi = radec2thetaphi(ra, dec, nside)\n",
    "    pix = hp.ang2pix(nside, theta, phi, nest=False)\n",
    "    for i in range(len(pix)):\n",
    "        mask[pix[i]] += 1\n",
    "    mask[mask>=nmin] = 1\n",
    "    mask[mask!=1] = 0\n",
    "\n",
    "    return mask\n",
    "\n",
    "def make_random(mask, ramin, ramax, decmin, decmax, N=1000, nside=4096, seed=100):\n",
    "    \"\"\"\n",
    "    Create N random points within a given mask.\n",
    "    \"\"\"\n",
    "\n",
    "    #print('Building the random catalog...')\n",
    "\n",
    "    np.random.seed(seed)\n",
    "    ra_rand = (np.random.random(N)* (ramax - ramin))+ramin\n",
    "    v = np.random.random(N)\n",
    "    #print len(v)\n",
    "    vmin = np.cos((90.0+decmin)/180.*np.pi)\n",
    "    vmax = np.cos((90.0+decmax)/180.*np.pi)\n",
    "    v *= (vmax-vmin)\n",
    "    v += vmin\n",
    "    #v *= 2\n",
    "    #v -= 1\n",
    "    dec_rand = np.arccos(v)\n",
    "    np.rad2deg(dec_rand,dec_rand)\n",
    "    dec_rand -= 90.0\n",
    "    #dec_rand_se =((dec_rand < decmax)&(dec_rand > decmin))\n",
    "    #ra_rand, dec_rand = ra_rand[dec_rand_se],dec_rand[dec_rand_se]\n",
    "    #print len(ra_rand)\n",
    "    #print 'Masking the random catalog...'\n",
    "\n",
    "    #Converting degrees into radians\n",
    "    theta_rand = (90.0 - dec_rand)*np.pi/180.\n",
    "    phi_rand = ra_rand*np.pi/180.\n",
    "    pix_rand = hp.ang2pix(nside, theta_rand, phi_rand, nest=False)\n",
    "\n",
    "    #goodm, = np.where(mask[pix_rand]==1)\n",
    "    #ra_rand = ra_rand[goodm]\n",
    "    #dec_rand = dec_rand[goodm]\n",
    "    #print len(ra_rand)\n",
    "\n",
    "    return ra_rand, dec_rand"
   ]
  },
  {
   "cell_type": "code",
   "execution_count": 70,
   "metadata": {},
   "outputs": [
    {
     "name": "stdout",
     "output_type": "stream",
     "text": [
      "1000\n"
     ]
    }
   ],
   "source": [
    "ra_rand, dec_rand = make_random(pix_w, 0.004271, 359.990874, -67.379043, -38.201655)\n",
    "w,z, Lambda, jkid = np.ones(1000),np.ones(1000),np.ones(1000),np.ones(1000)\n",
    "obj = np.column_stack((ra_rand, dec_rand))\n",
    "print(len(jkid))"
   ]
  },
  {
   "cell_type": "code",
   "execution_count": 71,
   "metadata": {},
   "outputs": [],
   "source": [
    "col1 = fits.Column(name='RA', format='E', array=ra_rand)\n",
    "col2 = fits.Column(name='DEC', format= 'E', array=dec_rand)\n",
    "col3 = fits.Column(name='Z', format='E', array=z)\n",
    "col4 = fits.Column(name='LAMBDA', format='E', array = Lambda)\n",
    "col5 = fits.Column(name='W', format='E', array=w)\n",
    "col6 = fits.Column(name='JK', format='E', array=jkid)\n",
    "\n",
    "cols_ran = fits.ColDefs([col1, col2, col3, col4, col5, col6])\n",
    "hdu_ran = fits.BinTableHDU.from_columns(cols_ran)\n",
    "#hdu_ran.writeto('./WaZP_cluster_rand.fits')"
   ]
  },
  {
   "cell_type": "code",
   "execution_count": 72,
   "metadata": {
    "scrolled": true
   },
   "outputs": [
    {
     "name": "stdout",
     "output_type": "stream",
     "text": [
      "ColDefs(\n",
      "    name = 'RA'; format = 'E'\n",
      "    name = 'DEC'; format = 'E'\n",
      "    name = 'Z'; format = 'E'\n",
      "    name = 'LAMBDA'; format = 'E'\n",
      "    name = 'JK'; format = 'E'\n",
      ")\n",
      "30323\n",
      "13360\n",
      "[  3   4   5   7   8  18  22  23  24  25  28  30  31  34  35  36  37  46\n",
      "  52  53  56  61  63  65  66  67  69  70  72  75  80  82  83  84  86  87\n",
      "  92  93  94  95  99 101 104 107 108 112 116 117 118 119 123 124 126 128\n",
      " 131 133 139 140 143 145 150 151 152 153 154 155 159 160 162 164 165 167\n",
      " 168 169 170 172 173 174 176 178 179 180 184 189 190 191 192 193 194 197\n",
      " 198 200 201 202 206 207 208 209 210 211 212 215 216 219 223 228 236 240\n",
      " 242 243 245 248 251 256 257 258 261 265 266 267 269 270 271 275 276 278\n",
      " 279 280 281 283 286 288 289 290 291 292 294 295 297 298 299 300 303 304\n",
      " 305 307 310 313 314 315]\n",
      "[   6   30   41   44   53   86   93   98  104  147  148  157  219  246\n",
      "  284  289  299  300  324  331  346  356  368  387  399  412  420  426\n",
      "  433  435  442  469  532  537  538  557  603  604  613  626  634  650\n",
      "  686  744  752  798  800  807  840  842  872  880  927  957  980 1004\n",
      " 1005 1033 1035 1055 1061 1072 1100 1106 1110 1130 1133 1149 1163 1172\n",
      " 1179 1236 1250 1265 1283 1312 1317 1330 1349 1351 1358 1374 1400 1412\n",
      " 1426 1438 1439 1468 1473 1477 1480 1481 1482 1488 1514 1529 1532 1535\n",
      " 1553 1557 1564 1588 1591 1594 1621 1664 1670 1703 1705 1715 1776 1796\n",
      " 1818 1877 1891 1896 1903 1920 1939 1950 1957 1963 1969 1998 2001 2005\n",
      " 2044 2062 2065 2092 2095 2097 2113 2118 2127 2135 2144 2207 2218 2248\n",
      " 2267 2272 2274 2290 2297 2312 2349 2363 2376 2378]\n"
     ]
    },
    {
     "ename": "KeyboardInterrupt",
     "evalue": "",
     "output_type": "error",
     "traceback": [
      "\u001b[0;31m---------------------------------------------------------------------------\u001b[0m",
      "\u001b[0;31mKeyboardInterrupt\u001b[0m                         Traceback (most recent call last)",
      "\u001b[0;32m<ipython-input-72-fe10387b7e97>\u001b[0m in \u001b[0;36m<module>\u001b[0;34m\u001b[0m\n\u001b[1;32m     22\u001b[0m \u001b[0mnum\u001b[0m \u001b[0;34m=\u001b[0m \u001b[0;34m[\u001b[0m\u001b[0;34m]\u001b[0m\u001b[0;34m\u001b[0m\u001b[0;34m\u001b[0m\u001b[0m\n\u001b[1;32m     23\u001b[0m \u001b[0;32mfor\u001b[0m \u001b[0mvalz\u001b[0m \u001b[0;32min\u001b[0m \u001b[0marr_z\u001b[0m\u001b[0;34m[\u001b[0m\u001b[0;36m0\u001b[0m\u001b[0;34m]\u001b[0m\u001b[0;34m:\u001b[0m\u001b[0;34m\u001b[0m\u001b[0;34m\u001b[0m\u001b[0m\n\u001b[0;32m---> 24\u001b[0;31m     \u001b[0;32mfor\u001b[0m \u001b[0mvall\u001b[0m \u001b[0;32min\u001b[0m \u001b[0marr_l\u001b[0m\u001b[0;34m[\u001b[0m\u001b[0;36m0\u001b[0m\u001b[0;34m]\u001b[0m\u001b[0;34m:\u001b[0m\u001b[0;34m\u001b[0m\u001b[0;34m\u001b[0m\u001b[0m\n\u001b[0m\u001b[1;32m     25\u001b[0m         \u001b[0;32mif\u001b[0m \u001b[0mvalz\u001b[0m \u001b[0;34m==\u001b[0m \u001b[0mvall\u001b[0m\u001b[0;34m:\u001b[0m\u001b[0;34m\u001b[0m\u001b[0;34m\u001b[0m\u001b[0m\n\u001b[1;32m     26\u001b[0m             \u001b[0mnum\u001b[0m\u001b[0;34m.\u001b[0m\u001b[0mappend\u001b[0m\u001b[0;34m(\u001b[0m\u001b[0mvalz\u001b[0m\u001b[0;34m)\u001b[0m\u001b[0;34m\u001b[0m\u001b[0;34m\u001b[0m\u001b[0m\n",
      "\u001b[0;31mKeyboardInterrupt\u001b[0m: "
     ]
    }
   ],
   "source": [
    "ra = fits.Column(name='RA', format='E', array=ra_u)\n",
    "dec = fits.Column(name='DEC', format= 'E', array=dec_u)\n",
    "z = fits.Column(name='Z', format='E', array=z_u)\n",
    "ngal = fits.Column(name='LAMBDA', format='E', array = ngal_u)\n",
    "jk = fits.Column(name='JK', format='E', array=jkid)\n",
    "\n",
    "cols = fits.ColDefs([ra, dec, z, ngal, jk])\n",
    "hdu = fits.BinTableHDU.from_columns(cols)\n",
    "#hdu.writeto('./WaZP_cluster.fits')\n",
    "W = pf.open('./WaZP_cluster.fits')[1].data\n",
    "cols = pf.open('./WaZP_cluster.fits')[1].columns\n",
    "print(cols)\n",
    "        \n",
    "arr_z = np.where((W['Z']>=0.2) & (W['Z']<=0.55))\n",
    "arr_l = np.where((W['lambda']>=20.) & (W['lambda']<=110.))\n",
    "\n",
    "print(len(arr_z[0]))\n",
    "print(len(arr_l[0]))\n",
    "print(arr_z[0][0:150])\n",
    "print(arr_l[0][0:150])\n",
    "\n",
    "num = []\n",
    "for valz in arr_z[0]:\n",
    "    for vall in arr_l[0]:\n",
    "        if valz == vall:\n",
    "            num.append(valz)\n",
    "            \n",
    "#print(num)"
   ]
  },
  {
   "cell_type": "code",
   "execution_count": null,
   "metadata": {},
   "outputs": [],
   "source": [
    "print(len(num))\n",
    "\n",
    "def anydup(thelist):\n",
    "  seen = set()\n",
    "  for x in thelist:\n",
    "    if x in seen: return True\n",
    "    seen.add(x)\n",
    "  return False\n",
    "\n",
    "anydup(num)"
   ]
  },
  {
   "cell_type": "code",
   "execution_count": null,
   "metadata": {},
   "outputs": [],
   "source": [
    "%matplotlib notebook\n",
    "\n",
    "n0 = np.load('./Sigmag_WaZP_results/Sigmag_WaZP_0.npz')\n",
    "n1 = np.load('./Sigmag_WaZP_results/Sigmag_WaZP_1.npz')\n",
    "n2 = np.load('./Sigmag_WaZP_results/Sigmag_WaZP_2.npz')\n",
    "n3 = np.load('./Sigmag_WaZP_results/Sigmag_WaZP_3.npz')\n",
    "n4 = np.load('./Sigmag_WaZP_results/Sigmag_WaZP_4.npz')\n",
    "n5 = np.load('./Sigmag_WaZP_results/Sigmag_WaZP_5.npz')\n",
    "n6 = np.load('./Sigmag_WaZP_results/Sigmag_WaZP_6.npz')\n",
    "\n",
    "fig, ax = plt.subplots()\n",
    "plt.plot(n0['R'],n0['xi'], color = 'red', label = 'mean z = .225')\n",
    "plt.plot(n1['R'],n1['xi'], color = 'orange', label = 'mean z = .275')\n",
    "plt.plot(n2['R'],n2['xi'], color = 'yellow', label = 'mean z = .325')\n",
    "plt.plot(n3['R'],n3['xi'], color = 'green', label = 'mean z = .375')\n",
    "plt.plot(n4['R'],n4['xi'], color = 'blue', label = 'mean z = .425')\n",
    "plt.plot(n5['R'],n5['xi'], color = 'purple', label = 'mean z = .475')\n",
    "plt.plot(n6['R'],n6['xi'], color = 'k', label = 'mean z = .525')\n",
    "plt.xlabel('log(R)', fontsize = 14, labelpad = -6.)\n",
    "plt.ylabel('log(xi)', fontsize = 14, labelpad = 0)\n",
    "plt.yscale('log')\n",
    "plt.xscale('log')\n",
    "plt.legend(fontsize = 11)\n",
    "\n",
    "plt.savefig('./Sigmag_WaZP_results/Sigmag_WaZP_results.png', dpi = 600)\n",
    "plt.show()"
   ]
  },
  {
   "cell_type": "code",
   "execution_count": null,
   "metadata": {},
   "outputs": [],
   "source": [
    "print(n0['ave_dens'])"
   ]
  },
  {
   "cell_type": "code",
   "execution_count": null,
   "metadata": {},
   "outputs": [],
   "source": []
  }
 ],
 "metadata": {
  "kernelspec": {
   "display_name": "Python 3",
   "language": "python",
   "name": "python3"
  },
  "language_info": {
   "codemirror_mode": {
    "name": "ipython",
    "version": 3
   },
   "file_extension": ".py",
   "mimetype": "text/x-python",
   "name": "python",
   "nbconvert_exporter": "python",
   "pygments_lexer": "ipython3",
   "version": "3.7.1"
  }
 },
 "nbformat": 4,
 "nbformat_minor": 2
}
