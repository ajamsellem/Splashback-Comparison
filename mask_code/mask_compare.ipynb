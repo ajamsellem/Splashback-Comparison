{
 "cells": [
  {
   "cell_type": "code",
   "execution_count": 15,
   "metadata": {},
   "outputs": [
    {
     "name": "stdout",
     "output_type": "stream",
     "text": [
      "Populating the interactive namespace from numpy and matplotlib\n"
     ]
    }
   ],
   "source": [
    "import healpy as hp\n",
    "import pylab as mplot\n",
    "%pylab inline\n",
    "import astropy.io.fits as pf\n",
    "import astropy.io.fits as fits\n",
    "import numpy as np\n",
    "import scipy \n",
    "import kmeans_radec\n",
    "%matplotlib inline\n",
    "import matplotlib.pyplot as plt"
   ]
  },
  {
   "cell_type": "markdown",
   "metadata": {},
   "source": [
    "## Redmapper Mask – From Random"
   ]
  },
  {
   "cell_type": "code",
   "execution_count": 16,
   "metadata": {},
   "outputs": [
    {
     "name": "stdout",
     "output_type": "stream",
     "text": [
      "['RA', 'DEC', 'Z', 'LAMBDA', 'W', 'JK']\n"
     ]
    }
   ],
   "source": [
    "\n",
    "\n",
    "\n",
    "# Read in Redmapper Random data\n",
    "hdul = fits.open('/Users/arielamsellem/Desktop/Research/splashback_codes/Fits_files/RM_cluster_rand.fits')\n",
    "data = hdul[1].data\n",
    "cols = hdul[1].columns\n",
    "print(cols.names)\n",
    "ra = data.field('RA')\n",
    "dec = data.field('DEC')\n",
    "\n",
    "# Convert to radians\n",
    "ra_rad = ra * np.pi * (1./180.)\n",
    "dec_rad = dec * np.pi * (1./180.)\n",
    "\n",
    "# Convert dec to \n",
    "phi = np.pi/2 - dec_rad\n",
    "theta = ra_rad"
   ]
  },
  {
   "cell_type": "code",
   "execution_count": 17,
   "metadata": {},
   "outputs": [
    {
     "data": {
      "image/png": "[encoded data removed]",
      "text/plain": [
       "<Figure size 612x388.8 with 2 Axes>"
      ]
     },
     "metadata": {
      "needs_background": "light"
     },
     "output_type": "display_data"
    }
   ],
   "source": [
    "# Convert to pixels and plot where there is at least one cluster\n",
    "pix_r_ran = hp.ang2pix(4096, phi, theta)\n",
    "mask_rm_ran = np.zeros(hp.nside2npix(4096))\n",
    "mask_rm_ran[pix_r_ran] = 1\n",
    "hp.mollview(mask_rm_ran)"
   ]
  },
  {
   "cell_type": "markdown",
   "metadata": {},
   "source": [
    "## Redmapper Mask – Directly From Mask"
   ]
  },
  {
   "cell_type": "code",
   "execution_count": 18,
   "metadata": {},
   "outputs": [
    {
     "name": "stdout",
     "output_type": "stream",
     "text": [
      "ColDefs(\n",
      "    name = 'HPIX'; format = 'K'\n",
      "    name = 'FRACGOOD'; format = 'E'\n",
      "    name = 'ZMAX'; format = 'E'\n",
      "    name = 'MASKFRAC_EST'; format = 'E'\n",
      ")\n"
     ]
    },
    {
     "data": {
      "image/png": "[encoded data removed]",
      "text/plain": [
       "<Figure size 612x388.8 with 2 Axes>"
      ]
     },
     "metadata": {
      "needs_background": "light"
     },
     "output_type": "display_data"
    }
   ],
   "source": [
    "mask_pix_r_mas = fits.open('./Fits_files/RM_mask.fits')\n",
    "cols_r = mask_pix_r_mas[1].columns\n",
    "print(cols_r)\n",
    "pix_r_mas = mask_pix_r_mas[1].data['HPIX']\n",
    "\n",
    "mask_rm_mas = np.zeros(hp.nside2npix(4096))\n",
    "mask_rm_mas[pix_r_mas] = 1\n",
    "fig = hp.mollview(mask_rm_mas)"
   ]
  },
  {
   "cell_type": "markdown",
   "metadata": {},
   "source": [
    "## WaZP Mask"
   ]
  },
  {
   "cell_type": "code",
   "execution_count": 6,
   "metadata": {},
   "outputs": [],
   "source": [
    "mask_pix_w = pf.open('./Fits_files/WaZP_mask.fits')\n",
    "cols_w = mask_pix_w[1].columns\n",
    "pix_w = mask_pix_w[1].data['pixel']\n",
    "#print(cols_mask_w.names)\n",
    "#print(mask_w[1].data['pixel'])\n",
    "# figuring out what's the maximum number in the index, in order to figure out the nside\n",
    "#mplot.plot(mask_w[1].data)\n",
    "# try nside=4096\n",
    "#hp.nside2npix(4096)\n",
    "# now populate the mask, define a zero array with the length of a nside 4096 map\n",
    "mask_w = np.zeros(hp.nside2npix(4096))\n",
    "\n",
    "\n",
    "# set the footprint pixel ids to 1\n",
    "mask_w[pix_w] = 1"
   ]
  },
  {
   "cell_type": "code",
   "execution_count": 7,
   "metadata": {},
   "outputs": [
    {
     "name": "stdout",
     "output_type": "stream",
     "text": [
      "193537048\n",
      "7789544\n",
      "199478892\n",
      "1847700\n",
      "193289434\n",
      "8037158\n"
     ]
    },
    {
     "data": {
      "image/png": "[encoded data removed]",
      "text/plain": [
       "<Figure size 612x388.8 with 2 Axes>"
      ]
     },
     "metadata": {
      "needs_background": "light"
     },
     "output_type": "display_data"
    }
   ],
   "source": [
    "# show the mask\n",
    "hp.mollview(mask_w)\n",
    "\n",
    "\n",
    "# WaZP Information\n",
    "print(len(mask_w) - len(np.where(mask_w == 1)[0]))\n",
    "print(len(np.where(mask_w == 1)[0]))\n",
    "\n",
    "# RM Random Information\n",
    "print(len(mask_rm_ran) - len(np.where(mask_rm_ran == 1)[0]))\n",
    "print(len(np.where(mask_rm_ran == 1)[0]))\n",
    "\n",
    "# RM Mask Information\n",
    "print(len(mask_rm_mas) - len(np.where(mask_rm_mas == 1)[0]))\n",
    "print(len(np.where(mask_rm_mas == 1)[0]))"
   ]
  },
  {
   "cell_type": "markdown",
   "metadata": {},
   "source": [
    "## Comparison of Masks"
   ]
  },
  {
   "cell_type": "code",
   "execution_count": 38,
   "metadata": {},
   "outputs": [],
   "source": [
    "# How many hits in RM Mask are not in WaZP\n",
    "compare_1 = np.isin(pix_w, pix_r_mas)\n",
    "# How many hits in WaZP are not in RM Mask\n",
    "compare_2 = np.isin(pix_r_mas, pix_w)\n",
    "# How many hits in RM Random are not in RM Mask\n",
    "compare_3 = np.isin(pix_r_ran, pix_r_mas)\n",
    "# How many hits in RM Mask are not in RM Random\n",
    "compare_4 = np.isin(pix_r_mas, pix_r_ran)"
   ]
  },
  {
   "cell_type": "code",
   "execution_count": 42,
   "metadata": {},
   "outputs": [
    {
     "name": "stdout",
     "output_type": "stream",
     "text": [
      "610137\n",
      "857751\n",
      "2\n",
      "6189460\n",
      "8037158 7789544\n",
      "Percentage Difference Between RM Mask and WazP: 18.263769357277784%\n",
      "Percentage Difference Between RM Mask and RM Random: 77.01058010804317%\n"
     ]
    }
   ],
   "source": [
    "diff_1 = np.where(compare_1 == False)[0]\n",
    "print(len(diff_1))\n",
    "\n",
    "diff_2 = np.where(compare_2 == False)[0]\n",
    "print(len(diff_2))\n",
    "\n",
    "diff_3 = np.where(compare_3 == False)[0]\n",
    "print(len(diff_3))\n",
    "\n",
    "diff_4 = np.where(compare_4 == False)[0]\n",
    "print(len(diff_4))\n",
    "\n",
    "\n",
    "print(len(pix_r_mas), len(pix_w))\n",
    "print('Percentage Difference Between RM Mask and WazP: ' + str(100*(len(diff_1)+len(diff_2))/len(pix_r_mas)) + '%')\n",
    "print('Percentage Difference Between RM Mask and RM Random: ' + str(100*(len(diff_3)+len(diff_4))/len(pix_r_mas)) + '%')"
   ]
  },
  {
   "cell_type": "code",
   "execution_count": 33,
   "metadata": {},
   "outputs": [
    {
     "data": {
      "image/png": "[encoded data removed]",
      "text/plain": [
       "<Figure size 432x288 with 6 Axes>"
      ]
     },
     "metadata": {
      "needs_background": "light"
     },
     "output_type": "display_data"
    },
    {
     "data": {
      "text/plain": [
       "<Figure size 7200x7200 with 0 Axes>"
      ]
     },
     "metadata": {},
     "output_type": "display_data"
    }
   ],
   "source": [
    "fig, (ax1, ax2, ax3) = plt.subplots(ncols=3)\n",
    "plt.figure(figsize = (100, 100))\n",
    "plt.axes(ax1)\n",
    "hp.mollview(mask_rm_ran, title = 'RM Random', hold = True)\n",
    "\n",
    "plt.axes(ax2)\n",
    "hp.mollview(mask_rm_mas, title = 'RM Mask', hold = True)\n",
    "\n",
    "plt.axes(ax3)\n",
    "hp.mollview(mask_w, title = 'WaZP Mask', hold = True)\n",
    "plt.savefig('./Mask_Comparison.png', dpi = 900)"
   ]
  }
 ],
 "metadata": {
  "kernelspec": {
   "display_name": "Python 3",
   "language": "python",
   "name": "python3"
  },
  "language_info": {
   "codemirror_mode": {
    "name": "ipython",
    "version": 3
   },
   "file_extension": ".py",
   "mimetype": "text/x-python",
   "name": "python",
   "nbconvert_exporter": "python",
   "pygments_lexer": "ipython3",
   "version": "3.7.1"
  }
 },
 "nbformat": 4,
 "nbformat_minor": 2
}
