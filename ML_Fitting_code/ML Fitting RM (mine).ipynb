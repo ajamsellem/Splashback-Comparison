{
 "cells": [
  {
   "cell_type": "code",
   "execution_count": 1,
   "metadata": {},
   "outputs": [],
   "source": [
    "import emcee\n",
    "%matplotlib inline\n",
    "import numpy as np\n",
    "import pylab as mplot\n",
    "from pylab import cm\n",
    "import seaborn as sns\n",
    "sns.set_style(\"whitegrid\")\n",
    "#import triangle\n",
    "import scipy.optimize as op\n",
    "import sys\n",
    "sys.path.insert(0, './py_scripts')\n",
    "from splashback_utils import *\n",
    "from scipy import stats"
   ]
  },
  {
   "cell_type": "markdown",
   "metadata": {},
   "source": [
    "# Read in data"
   ]
  },
  {
   "cell_type": "code",
   "execution_count": 2,
   "metadata": {},
   "outputs": [],
   "source": [
    "data = np.load('./Sigmag_RM_jk_results/splashback_cov_RM_jk.npz')\n",
    "# data = np.load('~/Dropbox/Work/splashback/cc_measurements/splashback_cov_lgt20.npz')\n",
    "\n",
    "# print data.files\n",
    "sigmag = data['sg_mean']\n",
    "sigmag_sig = data['sg_sig']\n",
    "sigmag_cov = data['cov']\n",
    "rperp = data['r_data'] \n",
    "\n",
    "# data = np.load('/Users/chihwaychang/Dropbox/Work/splashback/cc_measurements/splashback_crosscheck_lgt20_more_magcut_nophotoz.npz')\n",
    "# sigmag = data['sigmag']\n",
    "# sigmag_sig = data['sigmag_sig']\n",
    "# sigmag_cov = data['cov']\n",
    "# rperp = data['R'] "
   ]
  },
  {
   "cell_type": "code",
   "execution_count": 3,
   "metadata": {},
   "outputs": [
    {
     "name": "stdout",
     "output_type": "stream",
     "text": [
      "[0.75913915 0.6080623  0.45341655 0.30927251 0.28753661 0.18654409\n",
      " 0.12919235 0.10245078 0.07442771 0.0572765  0.04697263 0.04146947\n",
      " 0.03911017 0.03586756 0.03293852 0.02887773 0.02767266 0.02440168\n",
      " 0.02257387 0.01981155]\n"
     ]
    }
   ],
   "source": [
    "print(sigmag_sig)"
   ]
  },
  {
   "cell_type": "code",
   "execution_count": 4,
   "metadata": {},
   "outputs": [
    {
     "data": {
      "text/plain": [
       "<matplotlib.colorbar.Colorbar at 0x1c22720c50>"
      ]
     },
     "execution_count": 4,
     "metadata": {},
     "output_type": "execute_result"
    },
    {
     "data": {
      "image/png": "[encoded data removed]",
      "text/plain": [
       "<Figure size 1152x360 with 3 Axes>"
      ]
     },
     "metadata": {
      "needs_background": "light"
     },
     "output_type": "display_data"
    }
   ],
   "source": [
    "mplot.figure(figsize=(16,5))\n",
    "mplot.subplot(121)\n",
    "mplot.errorbar(rperp, sigmag, yerr=sigmag_sig, color='k', marker='s')\n",
    "mplot.xlabel('$R [Mpc]$', fontsize=15)\n",
    "mplot.ylabel('$\\Sigma_{g} [(1/Mpc)^2]$', fontsize=15)\n",
    "mplot.xscale('log')\n",
    "mplot.yscale('log')\n",
    "mplot.ylim(0.05,40)\n",
    "mplot.xlim(0.1,10)\n",
    "mplot.subplot(122)\n",
    "mplot.imshow(np.log(sigmag_cov), cmap=cm.rainbow)\n",
    "mplot.colorbar()"
   ]
  },
  {
   "cell_type": "markdown",
   "metadata": {},
   "source": [
    "# Set initial parameters"
   ]
  },
  {
   "cell_type": "code",
   "execution_count": 5,
   "metadata": {},
   "outputs": [],
   "source": [
    "h0 = 0.7\n",
    "z_max = 40./h0\n",
    "minz_to_integrate = 0.0\n",
    "maxz_to_integrate = z_max\n",
    "num_z_tointegrate = 500\n",
    "z = np.linspace(minz_to_integrate, maxz_to_integrate, num = num_z_tointegrate)\n",
    "\n",
    "# this is always fixed!\n",
    "r_o = 1.5/h0"
   ]
  },
  {
   "cell_type": "markdown",
   "metadata": {},
   "source": [
    "# ML fit (w splashback)"
   ]
  },
  {
   "cell_type": "code",
   "execution_count": 6,
   "metadata": {},
   "outputs": [],
   "source": [
    "# splashback\n",
    "\n",
    "log_alpha = -0.32085983 -0.1\n",
    "log_beta = 0.16309539\n",
    "log_gamma = 0.64815634\n",
    "log_r_s = 0.85387196 -0.1\n",
    "log_r_t = 0.08325509 \n",
    "log_rho_0 = -0.8865869 -0.5\n",
    "log_rho_s = -0.19838697 -0.3\n",
    "se = 1.3290722\n",
    "\n",
    "# alpha, beta, gamma, r_s, r_t, rho_0, rho_s, se\n",
    "params = np.array([log_alpha, log_beta, log_gamma, log_r_s, log_r_t, log_rho_0, log_rho_s, se])\n",
    "lin_params = np.array([10**log_alpha, 10**log_beta, 10**log_gamma, 10**log_r_s, 10**log_r_t, 10**log_rho_0, 10**log_rho_s, se])"
   ]
  },
  {
   "cell_type": "code",
   "execution_count": 7,
   "metadata": {},
   "outputs": [
    {
     "name": "stdout",
     "output_type": "stream",
     "text": [
      "      fun: -36.05237029218286\n",
      " hess_inv: <8x8 LbfgsInvHessProduct with dtype=float64>\n",
      "      jac: array([ 0.00016698, -0.0027633 ,  0.00384404, -0.00144311, -0.01095728,\n",
      "       -0.00498233, -0.00051728,  0.00076454])\n",
      "  message: b'CONVERGENCE: REL_REDUCTION_OF_F_<=_FACTR*EPSMCH'\n",
      "     nfev: 873\n",
      "      nit: 86\n",
      "   status: 0\n",
      "  success: True\n",
      "        x: array([-1.24194935,  0.77827941,  0.85259922, -0.35586758,  0.22183215,\n",
      "       -1.09565082,  0.63411431,  1.58690825])\n",
      "36.05237029218286\n"
     ]
    }
   ],
   "source": [
    "#Best model with splashback feature\n",
    "nll = lambda *args: -1*lnlikelihood(*args)\n",
    "\n",
    "p0 = params.copy()\n",
    "bounds = ((None, None), (None,None), (None,None), (np.log10(0.1/h0), np.log10(5.0/h0)), (np.log10(0.1/h0), np.log10(5.0/h0)), (None,None), (None,None), (-10., 10.))\n",
    "data_vec = sigmag.copy()\n",
    "invcov = np.linalg.inv(sigmag_cov.copy())\n",
    "result = op.minimize(nll, p0, args=(rperp, z, data_vec, invcov, h0, 1), options = {'maxiter':200}, bounds = bounds)\n",
    "best_params = result.x\n",
    "best_lnlike = -result.fun\n",
    "\n",
    "print(result)\n",
    "print(best_lnlike)"
   ]
  },
  {
   "cell_type": "markdown",
   "metadata": {},
   "source": [
    "# ML fit (w/o splashback)"
   ]
  },
  {
   "cell_type": "code",
   "execution_count": 8,
   "metadata": {},
   "outputs": [],
   "source": [
    "# this is good for no splsh\n",
    "log_alpha = -0.32085983 +0.5\n",
    "log_r_s = 0.85387196 -1\n",
    "log_rho_0 = -0.8865869 -1.3 \n",
    "log_rho_s = -0.19838697 +0.6\n",
    "se = 1.3290722 -1\n",
    "\n",
    "# alpha, r_s, rho_0, rho_s, se\n",
    "params_nosplash = np.array([log_alpha, log_r_s, log_rho_0, log_rho_s, se])\n",
    "lin_params_nosplash = np.array([10**log_alpha, 10**log_r_s, 10**log_rho_0, 10**log_rho_s, se])"
   ]
  },
  {
   "cell_type": "code",
   "execution_count": 9,
   "metadata": {},
   "outputs": [
    {
     "name": "stdout",
     "output_type": "stream",
     "text": [
      "      fun: -11.588897722797741\n",
      " hess_inv: <5x5 LbfgsInvHessProduct with dtype=float64>\n",
      "      jac: array([-3.07309733e-05,  5.32907052e-06,  2.91322522e-05, -7.46069873e-06,\n",
      "       -2.09610107e-05])\n",
      "  message: b'CONVERGENCE: REL_REDUCTION_OF_F_<=_FACTR*EPSMCH'\n",
      "     nfev: 282\n",
      "      nit: 34\n",
      "   status: 0\n",
      "  success: True\n",
      "        x: array([-0.31518532, -0.31545696, -1.12789155,  0.57271804,  1.65376351])\n",
      "11.588897722797741\n"
     ]
    }
   ],
   "source": [
    "#Best model with no splashback feature\n",
    "nll_nosplash = lambda *args: -1*lnlikelihood(*args)\n",
    "p0_nosplash = params_nosplash.copy()\n",
    "bounds_nosplash = ((None,None), (np.log10(0.1/h0), np.log10(5.0/h0)), (None,None), (None, None), (-10., 10.))\n",
    "data_vec = sigmag.copy()\n",
    "invcov = np.linalg.inv(sigmag_cov.copy())\n",
    "result_nosplash = op.minimize(nll_nosplash, p0_nosplash, args=(rperp, z, data_vec, invcov, h0, 0), bounds = bounds_nosplash)\n",
    "\n",
    "best_params_nosplash = result_nosplash.x\n",
    "best_lnlike_nosplash = -result_nosplash.fun\n",
    "\n",
    "print(result_nosplash)\n",
    "print(best_lnlike_nosplash)"
   ]
  },
  {
   "cell_type": "markdown",
   "metadata": {},
   "source": [
    "# Plot all this"
   ]
  },
  {
   "cell_type": "code",
   "execution_count": 10,
   "metadata": {},
   "outputs": [
    {
     "data": {
      "image/png": "[encoded data removed]",
      "text/plain": [
       "<Figure size 504x360 with 1 Axes>"
      ]
     },
     "metadata": {
      "needs_background": "light"
     },
     "output_type": "display_data"
    }
   ],
   "source": [
    "mplot.figure(figsize=(7,5))\n",
    "\n",
    "mplot.errorbar(rperp, sigmag, yerr=sigmag_sig, label='data', color='k')\n",
    "mplot.semilogx(rperp, Sigmag(rperp, z, p0, h0, 1), color='r', ls='--', lw=1)\n",
    "mplot.semilogx(rperp, Sigmag(rperp, z, best_params, h0, 1), label='fit w/ splashback', color='r', marker='s')\n",
    "mplot.semilogx(rperp, Sigmag(rperp, z, p0_nosplash, h0, 0), color='g', ls='--', lw=1)\n",
    "mplot.semilogx(rperp, Sigmag(rperp, z, best_params_nosplash, h0, 0), label='fit w/o splashback', color='g', marker='o')\n",
    "\n",
    "mplot.xlabel('$R [Mpc]$', fontsize=15)\n",
    "mplot.ylabel('$\\Sigma_{g} [(1/Mpc)^2]$', fontsize=15)\n",
    "mplot.xscale('log')\n",
    "mplot.yscale('log')\n",
    "mplot.ylim(0.05,40)\n",
    "mplot.xlim(0.1,10)\n",
    "\n",
    "mplot.legend(fontsize=14)\n",
    "mplot.show()\n",
    "#mplot.savefig('/Users/arielamsellem/Desktop/Mean_Sigmag_RM.png', dpi = 600)\n"
   ]
  },
  {
   "cell_type": "markdown",
   "metadata": {},
   "source": [
    "# Look at log derivative"
   ]
  },
  {
   "cell_type": "code",
   "execution_count": 11,
   "metadata": {},
   "outputs": [
    {
     "name": "stderr",
     "output_type": "stream",
     "text": [
      "/anaconda3/lib/python3.7/site-packages/scipy/signal/_arraytools.py:45: FutureWarning: Using a non-tuple sequence for multidimensional indexing is deprecated; use `arr[tuple(seq)]` instead of `arr[seq]`. In the future this will be interpreted as an array index, `arr[np.array(seq)]`, which will result either in an error or a different result.\n",
      "  b = a[a_slice]\n"
     ]
    },
    {
     "data": {
      "image/png": "[encoded data removed]",
      "text/plain": [
       "<Figure size 504x360 with 1 Axes>"
      ]
     },
     "metadata": {
      "needs_background": "light"
     },
     "output_type": "display_data"
    }
   ],
   "source": [
    "mplot.figure(figsize=(7,5))\n",
    "ax = mplot.subplot(111)\n",
    "\n",
    "r1, dsdr1 = derivative_savgol(rperp, sigmag, N=10000, window_length=5, polyorder=3)\n",
    "r2, dsdr2 = derivative_savgol(rperp, Sigmag(rperp, z, best_params, h0, 1), N=10000, window_length=5, polyorder=3)\n",
    "r3, dsdr3 = derivative_savgol(rperp, Sigmag(rperp, z, best_params_nosplash, h0, 0), N=10000, window_length=5, polyorder=3)\n",
    "\n",
    "mplot.plot(r1+np.log10(h0), dsdr1, color='k', label='data')\n",
    "mplot.plot(r2+np.log10(h0), dsdr2, color='r', label='fit w/ splashback')\n",
    "mplot.plot(r3+np.log10(h0), dsdr3, color='g', label='fit w/o splashback')\n",
    "#ax.fill_between(data['r2']+np.log10(h0), np.log10(10**(data['dlnsg_mean_sm']-data['dlnsg_std_sm'])), \n",
    "#                 np.log10(10**(data['dlnsg_mean_sm']+data['dlnsg_std_sm'])), facecolor='k', \n",
    "#                 edgecolor='white', alpha=0.2, interpolate=True)\n",
    "\n",
    "mplot.ylim(-2,0)\n",
    "mplot.xlim(-1,1)\n",
    "mplot.legend(fontsize=14, loc='lower right')\n",
    "mplot.ylabel('$d\\log(\\Sigma_{g}(R))/d\\log(R)$', fontsize=15)\n",
    "mplot.xlabel('$R \\;[Mpc/h]$', fontsize=15)\n",
    "\n",
    "mplot.show()\n",
    "#mplot.savefig('/Users/arielamsellem/Desktop/Mean_Sigmag_deriv_RM.png', dpi = 600)\n",
    "\n"
   ]
  },
  {
   "cell_type": "markdown",
   "metadata": {},
   "source": [
    "# Likelihood ratio test"
   ]
  },
  {
   "cell_type": "code",
   "execution_count": 12,
   "metadata": {},
   "outputs": [
    {
     "name": "stdout",
     "output_type": "stream",
     "text": [
      "36.05237029218286 11.588897722797741 1.3520162767122201e-10 6.421202953635493\n"
     ]
    }
   ],
   "source": [
    "bigD = 2.*(best_lnlike - best_lnlike_nosplash)\n",
    "df = len(best_params) - len(best_params_nosplash)\n",
    "prob = 1 - stats.chi2.cdf(bigD, df)\n",
    "zscore = stats.norm.ppf(1-prob/2.0)\n",
    "\n",
    "print(best_lnlike, best_lnlike_nosplash, prob, zscore)"
   ]
  },
  {
   "cell_type": "code",
   "execution_count": 13,
   "metadata": {},
   "outputs": [
    {
     "name": "stdout",
     "output_type": "stream",
     "text": [
      "0.9999999998647984\n"
     ]
    }
   ],
   "source": [
    "print(stats.chi2.cdf(bigD, df))"
   ]
  },
  {
   "cell_type": "code",
   "execution_count": 14,
   "metadata": {},
   "outputs": [],
   "source": [
    "# new data lgt20\n",
    "# 45.8004562662 8.71600506227 5.55111512313e-16 8.1258906647\n",
    "# new data l10_20\n",
    "# 41.2032328262 -1.5571077401 0.0 inf\n",
    "# old data lgt20\n",
    "# 37.7170860377 -56.3869397597 0.0 inf\n",
    "\n",
    "# consider using less points for the fit?!"
   ]
  },
  {
   "cell_type": "markdown",
   "metadata": {},
   "source": [
    "# Now consider lensing..."
   ]
  },
  {
   "cell_type": "code",
   "execution_count": null,
   "metadata": {},
   "outputs": [],
   "source": [
    "data = np.loadtxt('/Users/chihwaychang/Dropbox/Work/splashback/cs_measurements/test_l10_20_comoving_deltasigma', comments='#')\n",
    "# print data.files\n",
    "sigma = data[:,1]*h0**2\n",
    "sigma_sig = data[:,2]*h0**2\n",
    "rperp = data[:,0]/h0 \n",
    "sigma_cov = np.loadtxt('/Users/chihwaychang/Dropbox/Work/splashback/cs_measurements/test_l10_20_comoving_cov')*h0**4"
   ]
  },
  {
   "cell_type": "code",
   "execution_count": null,
   "metadata": {},
   "outputs": [],
   "source": [
    "# splashback\n",
    "\n",
    "log_alpha = -0.32085983 -2\n",
    "log_beta = 0.16309539 +0.1\n",
    "log_gamma = 0.64815634 +0.1\n",
    "log_r_s = -0.1 #0.85387196 -0.7\n",
    "log_r_t = 0.0 # 0.08325509 +0.4\n",
    "log_rho_0 = -0.8865869 +0.3\n",
    "log_rho_s = -0.19838697 +1\n",
    "se = 1.3290722 -0.2\n",
    "\n",
    "# alpha, beta, gamma, r_s, r_t, rho_0, rho_s, se\n",
    "params = np.array([log_alpha, log_beta, log_gamma, log_r_s, log_r_t, log_rho_0, log_rho_s, se])\n",
    "lin_params = np.array([10**log_alpha, 10**log_beta, 10**log_gamma, 10**log_r_s, 10**log_r_t, 10**log_rho_0, 10**log_rho_s, se])"
   ]
  },
  {
   "cell_type": "code",
   "execution_count": null,
   "metadata": {},
   "outputs": [],
   "source": [
    "mplot.figure(figsize=(16,5))\n",
    "mplot.subplot(121)\n",
    "mplot.errorbar(rperp, sigma, yerr=sigma_sig, color='k', marker='s')\n",
    "mplot.plot(rperp, DSigmag(rperp, z, params, h0, 1), label='fit', color='g', marker='s')\n",
    "mplot.xlabel('$R [Mpc/h]$', fontsize=15)\n",
    "mplot.ylabel('$\\Delta \\Sigma [(h/Mpc)^2]$', fontsize=15)\n",
    "mplot.xscale('log')\n",
    "mplot.yscale('log')\n",
    "# mplot.ylim(0.1,100)\n",
    "# mplot.xlim(0.1,10)\n",
    "mplot.subplot(122)\n",
    "mplot.imshow(np.log(sigmag_cov), cmap=cm.rainbow)\n",
    "mplot.colorbar()\n",
    "\n",
    "\n",
    "# assume these are with h's"
   ]
  },
  {
   "cell_type": "code",
   "execution_count": null,
   "metadata": {},
   "outputs": [],
   "source": [
    "r1, dsdr1 = derivative_savgol(rperp[1:-1], DSigmag(rperp, z, params, h0, 1)[1:-1], N=10000, window_length=5, polyorder=3)\n",
    "mplot.plot(r1,dsdr1)\n",
    "mplot.ylim(-2,0)"
   ]
  },
  {
   "cell_type": "markdown",
   "metadata": {},
   "source": [
    "# ML fit w/splashback"
   ]
  },
  {
   "cell_type": "code",
   "execution_count": null,
   "metadata": {},
   "outputs": [],
   "source": [
    "# splashback\n",
    "\n",
    "log_alpha = -0.32085983 -2\n",
    "log_beta = 0.16309539 +0.1\n",
    "log_gamma = 0.64815634 +0.1\n",
    "log_r_s = -0.1 #0.85387196 -0.7\n",
    "log_r_t = 0.0 # 0.08325509 +0.4\n",
    "log_rho_0 = -0.8865869 +0.3\n",
    "log_rho_s = -0.19838697 +1\n",
    "se = 1.3290722 -0.2\n",
    "\n",
    "# alpha, beta, gamma, r_s, r_t, rho_0, rho_s, se\n",
    "params = np.array([log_alpha, log_beta, log_gamma, log_r_s, log_r_t, log_rho_0, log_rho_s, se])\n",
    "lin_params = np.array([10**log_alpha, 10**log_beta, 10**log_gamma, 10**log_r_s, 10**log_r_t, 10**log_rho_0, 10**log_rho_s, se])"
   ]
  },
  {
   "cell_type": "code",
   "execution_count": null,
   "metadata": {},
   "outputs": [],
   "source": [
    "#Best model with splashback feature\n",
    "nll = lambda *args: -1*lnlikelihoodD(*args)\n",
    "\n",
    "p0 = params.copy()\n",
    "bounds = ((None, None), (None,None), (None,None), (np.log10(0.1/h0), np.log10(5.0/h0)), (np.log10(0.1/h0), np.log10(5.0/h0)), (None,None), (None,None), (-10., 10.))\n",
    "data_vec = sigma[1:-1].copy()\n",
    "invcov = np.linalg.inv(sigma_cov[1:-1, 1:-1].copy())\n",
    "result = op.minimize(nll, p0, args=(rperp[1:-1], z, data_vec, invcov, h0, 1), options = {'maxiter':200}, bounds = bounds)\n",
    "best_params = result.x\n",
    "best_lnlike = -result.fun\n",
    "\n",
    "print result\n",
    "print best_lnlike\n",
    "print best_params"
   ]
  },
  {
   "cell_type": "markdown",
   "metadata": {},
   "source": [
    "# ML fit w/o splashback"
   ]
  },
  {
   "cell_type": "code",
   "execution_count": null,
   "metadata": {},
   "outputs": [],
   "source": [
    "# this is good for no splsh\n",
    "log_alpha = -0.32085983 - 0.7\n",
    "log_r_s = 0.85387196 -1.2\n",
    "log_rho_0 = -0.8865869 -0.8\n",
    "log_rho_s = -0.19838697 +1.4\n",
    "se = 1.3290722 \n",
    "\n",
    "# alpha, r_s, rho_0, rho_s, se\n",
    "params_nosplash = np.array([log_alpha, log_r_s, log_rho_0, log_rho_s, se])\n",
    "lin_params_nosplash = np.array([10**log_alpha, 10**log_r_s, 10**log_rho_0, 10**log_rho_s, se])"
   ]
  },
  {
   "cell_type": "code",
   "execution_count": null,
   "metadata": {},
   "outputs": [],
   "source": [
    "#Best model with no splashback feature\n",
    "nll_nosplash = lambda *args: -1*lnlikelihoodD(*args)\n",
    "p0_nosplash = params_nosplash.copy()\n",
    "\n",
    "bounds_nosplash = ((None,None), (np.log10(0.1/h0), np.log10(5.0/h0)), (None,None), (None, None), (-10., 10.))\n",
    "data_vec = sigma[1:-1].copy()\n",
    "invcov = np.linalg.inv(sigma_cov[1:-1,1:-1].copy())\n",
    "result_nosplash = op.minimize(nll_nosplash, p0_nosplash, args=(rperp[1:-1], z, data_vec, invcov, h0, 0), bounds = bounds_nosplash)\n",
    "\n",
    "best_params_nosplash = result_nosplash.x\n",
    "best_lnlike_nosplash = -result_nosplash.fun\n",
    "\n",
    "print result_nosplash\n",
    "print best_lnlike_nosplash"
   ]
  },
  {
   "cell_type": "markdown",
   "metadata": {},
   "source": [
    "# Plot all of this"
   ]
  },
  {
   "cell_type": "code",
   "execution_count": null,
   "metadata": {},
   "outputs": [],
   "source": [
    "mplot.figure(figsize=(7,5))\n",
    "\n",
    "mplot.errorbar(rperp, sigma, yerr=sigma_sig, label='data', color='k')\n",
    "mplot.semilogx(rperp[1:-1], DSigmag(rperp, z, p0, h0, 1)[1:-1], color='r', ls='--', lw=1)\n",
    "mplot.semilogx(rperp[1:-1], DSigmag(rperp, z, best_params, h0, 1)[1:-1], label='fit w/ splashback', color='r', marker='s')\n",
    "mplot.semilogx(rperp[1:-1], DSigmag(rperp, z, p0_nosplash, h0, 0)[1:-1], color='g', ls='--', lw=1)\n",
    "mplot.semilogx(rperp[1:-1], DSigmag(rperp, z, best_params_nosplash, h0, 0)[1:-1], label='fit w/o splashback', color='g', marker='o')\n",
    "\n",
    "mplot.xlabel('$R [Mpc]$', fontsize=15)\n",
    "mplot.ylabel('$\\Sigma_{g} [(1/Mpc)^2]$', fontsize=15)\n",
    "mplot.xscale('log')\n",
    "mplot.yscale('log')\n",
    "mplot.ylim(0.1,100)\n",
    "mplot.xlim(0.1,10)\n",
    "\n",
    "mplot.legend(fontsize=14)"
   ]
  },
  {
   "cell_type": "code",
   "execution_count": null,
   "metadata": {},
   "outputs": [],
   "source": [
    "mplot.figure(figsize=(7,5))\n",
    "ax = mplot.subplot(111)\n",
    "\n",
    "r1, dsdr1 = derivative_savgol(rperp, sigma, N=10000, window_length=5, polyorder=3)\n",
    "r2, dsdr2 = derivative_savgol(rperp[1:-1], DSigmag(rperp, z, best_params, h0, 1)[1:-1], N=10000, window_length=5, polyorder=3)\n",
    "r3, dsdr3 = derivative_savgol(rperp[1:-1], DSigmag(rperp, z, best_params_nosplash, h0, 0)[1:-1], N=10000, window_length=5, polyorder=3)\n",
    "\n",
    "print DSigmag(rperp[1:-1], z, best_params_nosplash, h0, 0)\n",
    "print dsdr2\n",
    "mplot.plot(r1+np.log10(h0), dsdr1, color='k', label='data')\n",
    "mplot.plot(r2+np.log10(h0), dsdr2, color='r', label='fit w/ splashback')\n",
    "mplot.plot(r3+np.log10(h0), dsdr3, color='g', label='fit w/o splashback')\n",
    "\n",
    "mplot.ylim(-2.5,0)\n",
    "mplot.xlim(-1,1)\n",
    "mplot.legend(fontsize=14, loc='lower left')\n",
    "mplot.ylabel('$d\\log(\\Sigma_{g}(R))/d\\log(R)$', fontsize=15)\n",
    "mplot.xlabel('$R \\;[Mpc/h]$', fontsize=15)\n",
    "\n"
   ]
  },
  {
   "cell_type": "code",
   "execution_count": null,
   "metadata": {},
   "outputs": [],
   "source": []
  },
  {
   "cell_type": "code",
   "execution_count": null,
   "metadata": {},
   "outputs": [],
   "source": []
  }
 ],
 "metadata": {
  "kernelspec": {
   "display_name": "Python 3",
   "language": "python",
   "name": "python3"
  },
  "language_info": {
   "codemirror_mode": {
    "name": "ipython",
    "version": 3
   },
   "file_extension": ".py",
   "mimetype": "text/x-python",
   "name": "python",
   "nbconvert_exporter": "python",
   "pygments_lexer": "ipython3",
   "version": "3.7.1"
  }
 },
 "nbformat": 4,
 "nbformat_minor": 1
}
