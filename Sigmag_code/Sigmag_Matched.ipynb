{
 "cells": [
  {
   "cell_type": "markdown",
   "metadata": {},
   "source": [
    "## Numbers Before Matching"
   ]
  },
  {
   "cell_type": "code",
   "execution_count": 10,
   "metadata": {
    "scrolled": true
   },
   "outputs": [
    {
     "name": "stdout",
     "output_type": "stream",
     "text": [
      "Number of RM Clusters after cuts: 3684\n"
     ]
    }
   ],
   "source": [
    "from astropy.io import fits\n",
    "import numpy as np\n",
    "import astropy.io.fits as pf\n",
    "\n",
    "\n",
    "# Read in Redmapper data\n",
    "\n",
    "hdul = fits.open('./Fits_files/RM_cluster.fits')\n",
    "data = hdul[1].data\n",
    "cols = hdul[1].columns\n",
    "\n",
    "ra_r = data.field('RA')\n",
    "dec_r = data.field('DEC')\n",
    "z_r = data.field('Z')\n",
    "lam_r = data.field('lambda')\n",
    "jk_r = data.field('jk')\n",
    "\n",
    "print(\"Number of RM Clusters after cuts: \" + str(len(ra_r)))"
   ]
  },
  {
   "cell_type": "code",
   "execution_count": 11,
   "metadata": {},
   "outputs": [
    {
     "name": "stdout",
     "output_type": "stream",
     "text": [
      "Number of WaZP Clusters before cuts: 58590\n",
      "Number of WaZP Clusters after cuts: 7110\n"
     ]
    }
   ],
   "source": [
    "# Read in WaZP data\n",
    "\n",
    "W = pf.open('./Fits_files/WaZP_jk.fits')[1].data\n",
    "cols = pf.open('./Fits_files/WaZP_cluster.fits')[1].columns\n",
    "print('Number of WaZP Clusters before cuts: ' + str(len(W)))\n",
    "\n",
    "# The cuts on WaZP clusters in redshift and richness/ngal\n",
    "idx = np.where((W['Z']>=0.2) & (W['Z']<=0.55) & (W['lambda']>=20.) & (W['lambda']<=110.) )[0]\n",
    "print('Number of WaZP Clusters after cuts: ' + str(len(idx)))\n",
    "\n",
    "ra_u = []\n",
    "dec_u = []\n",
    "z_u = []\n",
    "lam_u = []\n",
    "jk_u = []\n",
    "\n",
    "for val in idx:\n",
    "    ra_u.append(W['ra'][val])\n",
    "    dec_u.append(W['dec'][val])\n",
    "    z_u.append(W['z'][val])\n",
    "    lam_u.append(W['lambda'][val])\n",
    "    jk_u.append(W['jk'][val])\n",
    "    \n",
    "ra_u = np.asarray(ra_u)\n",
    "dec_u = np.asarray(dec_u)\n",
    "z_u = np.asarray(z_u)\n",
    "lam_u = np.asarray(lam_u)\n",
    "jk_u = np.asarray(jk_u)\n",
    "\n"
   ]
  },
  {
   "cell_type": "code",
   "execution_count": 12,
   "metadata": {},
   "outputs": [
    {
     "name": "stdout",
     "output_type": "stream",
     "text": [
      "1282\n",
      "1346\n"
     ]
    }
   ],
   "source": [
    "# Create an array of tuples of the form (ra, dec) for each data set\n",
    "zip_radec = list(zip(ra_r, dec_r))\n",
    "zip_radec_u = list(zip(ra_u, dec_u))\n",
    "zip_radec = np.array(zip_radec)\n",
    "zip_radec_u = np.array(zip_radec_u)\n",
    "\n",
    "\n",
    "# Find indices (in **WaZP**) where RM and WaZP ra & dec are equal\n",
    "idx_w = np.ndarray([0])\n",
    "for val in zip_radec:\n",
    "    y = np.where( (zip_radec_u[:,0] == val[0]) & (zip_radec_u[:,1] == val[1]) )[0]\n",
    "    idx_w = np.append(idx_w, y) \n",
    "idx_w = idx_w.astype(int)\n",
    "print(len(idx_w))\n",
    "\n",
    "# Find indices (in **WaZP**) where RM and WaZP ra & dec are within about 5 arcseconds of each other\n",
    "idx_5_arcsec = np.ndarray([0])\n",
    "for val in zip_radec:\n",
    "    yy = np.where( (zip_radec_u[:,0] >= val[0] - 0.0014) & (zip_radec_u[:,0] <= val[0] + 0.0014) & (zip_radec_u[:,1] >= val[1] - 0.0014) & (zip_radec_u[:,1] <= val[1] + 0.0014) )[0]\n",
    "    idx_5_arcsec = np.append(idx_5_arcsec, yy)\n",
    "idx_5_arcsec = idx_5_arcsec.astype(int) \n",
    "print(len(idx_5_arcsec))"
   ]
  },
  {
   "cell_type": "markdown",
   "metadata": {},
   "source": [
    "Since the 5 arcsecond cushion only gave us an extra 64 clusters (only an increase of 5%), we decided to only use exactly matched clusters between the two catalogues."
   ]
  },
  {
   "cell_type": "markdown",
   "metadata": {},
   "source": [
    "## Creating Fits File Using WaZP Redshifts"
   ]
  },
  {
   "cell_type": "code",
   "execution_count": 16,
   "metadata": {},
   "outputs": [
    {
     "name": "stdout",
     "output_type": "stream",
     "text": [
      "False\n",
      "False\n"
     ]
    }
   ],
   "source": [
    "# Use the indices where a match occurred to create new numpy arrays using the **WaZP** data and write it to a fits file\n",
    "\n",
    "ra = np.ndarray([0])\n",
    "dec = np.ndarray([0])\n",
    "z = np.ndarray([0])\n",
    "lam = np.ndarray([0])\n",
    "jk = np.ndarray([0])\n",
    "\n",
    "for i in idx_w:\n",
    "    ra = np.append(ra, ra_u[i])\n",
    "    dec = np.append(dec, dec_u[i])\n",
    "    z = np.append(z, z_u[i])\n",
    "    lam = np.append(lam, lam_u[i])\n",
    "    jk = np.append(jk, jk_u[i])\n",
    "\n",
    "# Sanity Check: Just make sure that there are no elements in our shared list that are not in both lists (return false twice if every element appears in both lists)\n",
    "in_R = np.ndarray([0])\n",
    "in_W = np.ndarray([0])\n",
    "\n",
    "for i in ra:\n",
    "    in_R = np.append(in_R, np.isin(i, ra_r))\n",
    "    in_W = np.append(in_W, np.isin(i, ra_u))\n",
    "    \n",
    "print(np.isin(False, in_R))\n",
    "print(np.isin(False, in_W))\n",
    "\n",
    "\n",
    "ra = fits.Column(name='RA', format='E', array=ra)\n",
    "dec = fits.Column(name='DEC', format= 'E', array=dec)\n",
    "z = fits.Column(name='Z', format='E', array=z)\n",
    "lam = fits.Column(name='LAMBDA', format='E', array = lam)\n",
    "jk = fits.Column(name='JK', format='E', array=jk)\n",
    "\n",
    "cols = fits.ColDefs([ra, dec, z, lam, jk])\n",
    "hdu = fits.BinTableHDU.from_columns(cols)\n",
    "#hdu.writeto('./Fits_files/Matched_WaZP_cluster.fits')"
   ]
  },
  {
   "cell_type": "markdown",
   "metadata": {},
   "source": [
    "## Creating Fits File Using RM Redshifts"
   ]
  },
  {
   "cell_type": "code",
   "execution_count": 5,
   "metadata": {},
   "outputs": [
    {
     "name": "stdout",
     "output_type": "stream",
     "text": [
      "False\n",
      "False\n"
     ]
    }
   ],
   "source": [
    "# Find indices (in **WaZP**) where RM and WaZP ra & dec are equal\n",
    "idx_r = np.ndarray([0])\n",
    "for val in zip_radec_u:\n",
    "    y = np.where( (zip_radec[:,0] == val[0]) & (zip_radec[:,1] == val[1]) )[0]\n",
    "    idx_r = np.append(idx_r, y) \n",
    "idx_r = idx_r.astype(int)\n",
    "\n",
    "# Use the indices where a match occurred to create new numpy arrays using the **RM** data and write it to a fits file\n",
    "\n",
    "ra = np.ndarray([0])\n",
    "dec = np.ndarray([0])\n",
    "z = np.ndarray([0])\n",
    "lam = np.ndarray([0])\n",
    "jk = np.ndarray([0])\n",
    "\n",
    "for i in idx_r:\n",
    "    ra = np.append(ra, ra_r[i])\n",
    "    dec = np.append(dec, dec_r[i])\n",
    "    z = np.append(z, z_r[i])\n",
    "    lam = np.append(lam, lam_r[i])\n",
    "    jk = np.append(jk, jk_r[i])\n",
    "    \n",
    "# Sanity Check: Just make sure that there are no elements in our shared list that are not in both lists (return false twice if every element appears in both lists)\n",
    "in_R = np.ndarray([0])\n",
    "in_W = np.ndarray([0])\n",
    "\n",
    "for i in ra:\n",
    "    in_R = np.append(in_R, np.isin(i, ra_r))\n",
    "    in_W = np.append(in_W, np.isin(i, ra_u))\n",
    "    \n",
    "print(np.isin(False, in_R))\n",
    "print(np.isin(False, in_W))\n",
    "\n",
    "ra = fits.Column(name='RA', format='E', array=ra)\n",
    "dec = fits.Column(name='DEC', format= 'E', array=dec)\n",
    "z = fits.Column(name='Z', format='E', array=z)\n",
    "lam = fits.Column(name='LAMBDA', format='E', array = lam)\n",
    "jk = fits.Column(name='JK', format='E', array=jk)\n",
    "\n",
    "cols = fits.ColDefs([ra, dec, z, lam, jk])\n",
    "hdu = fits.BinTableHDU.from_columns(cols)\n",
    "#hdu.writeto('./Fits_files/Matched_RM_cluster.fits')"
   ]
  }
 ],
 "metadata": {
  "kernelspec": {
   "display_name": "Python 3",
   "language": "python",
   "name": "python3"
  },
  "language_info": {
   "codemirror_mode": {
    "name": "ipython",
    "version": 3
   },
   "file_extension": ".py",
   "mimetype": "text/x-python",
   "name": "python",
   "nbconvert_exporter": "python",
   "pygments_lexer": "ipython3",
   "version": "3.7.1"
  }
 },
 "nbformat": 4,
 "nbformat_minor": 2
}
